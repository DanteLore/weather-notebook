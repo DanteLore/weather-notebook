{
 "cells": [
  {
   "cell_type": "code",
   "execution_count": null,
   "metadata": {
    "collapsed": true,
    "pycharm": {
     "is_executing": true
    }
   },
   "outputs": [
    {
     "name": "stdout",
     "output_type": "stream",
     "text": [
      "Executing: select site_id, site_name, lat, lon, min(temperature) as temperature from weather where year='2022' and month='1' and day='3' group by site_id, site_name, lat, lon\n",
      "Wait count 0/30\n"
     ]
    }
   ],
   "source": [
    "import pandas as pd\n",
    "import geopandas\n",
    "from aws_helpers import execute_athena_query\n",
    "import matplotlib.pyplot as plt\n",
    "from datetime import datetime, timedelta\n",
    "%matplotlib inline\n",
    "\n",
    "yesterday = datetime.today() - timedelta(days = 1)\n",
    "\n",
    "results_url = execute_athena_query(f\"select site_id, site_name, lat, lon, min(temperature) as temperature from weather where year='{yesterday.year}' and month='{yesterday.month}' and day='{yesterday.day}' group by site_id, site_name, lat, lon\")\n",
    "df = pd.read_csv(results_url)\n",
    "\n",
    "df"
   ]
  },
  {
   "cell_type": "markdown",
   "metadata": {
    "pycharm": {
     "name": "#%% md\n"
    }
   },
   "source": [
    "# Raw Scatter plot\n",
    "\n",
    "Note that the coordinates will look a bit weird, because the earth is round ;)"
   ]
  },
  {
   "cell_type": "code",
   "execution_count": null,
   "metadata": {
    "pycharm": {
     "name": "#%%\n",
     "is_executing": true
    },
    "scrolled": true
   },
   "outputs": [],
   "source": [
    "df.plot(\n",
    "    kind=\"scatter\",\n",
    "    x=\"lon\", y=\"lat\",\n",
    "    figsize=(8,12),\n",
    "    cmap=plt.get_cmap(\"jet\"),\n",
    "    c='temperature',\n",
    "    colorbar=True, alpha=0.4\n",
    ")"
   ]
  },
  {
   "cell_type": "markdown",
   "source": [
    "# Raw Scatter Plot with OSGB Coords\n",
    "\n",
    "How to convert coords to OSGB Eastings and Northings"
   ],
   "metadata": {
    "collapsed": false,
    "pycharm": {
     "name": "#%% md\n"
    }
   }
  },
  {
   "cell_type": "code",
   "execution_count": null,
   "outputs": [],
   "source": [
    "from OSGridConverter import latlong2grid\n",
    "\n",
    "def convert(r):\n",
    "    g=latlong2grid(r['lat'], r['lon'])\n",
    "    r['osgb_E'] = g.E\n",
    "    r['osgb_N'] = g.N\n",
    "    return r\n",
    "\n",
    "osgb = df.apply(convert, axis=1)\n",
    "\n",
    "osgb"
   ],
   "metadata": {
    "collapsed": false,
    "pycharm": {
     "name": "#%%\n",
     "is_executing": true
    }
   }
  },
  {
   "cell_type": "markdown",
   "source": [
    "# geopandas\n",
    "\n",
    "*geopandas* creates some nice static figures, perfect for using in docs and articles.  You can use vector data from shape files, as per the first example below (which looks a bit 1980's because of the very low res shape data) or you can use a `geotiff` image as a background as per the second example."
   ],
   "metadata": {
    "collapsed": false,
    "pycharm": {
     "name": "#%% md\n"
    }
   }
  },
  {
   "cell_type": "code",
   "execution_count": null,
   "outputs": [],
   "source": [
    "gdf = geopandas.GeoDataFrame(df, geometry=geopandas.points_from_xy(df.lon, df.lat))\n",
    "\n",
    "# Could load a different shape file here!\n",
    "world = geopandas.read_file(geopandas.datasets.get_path('naturalearth_lowres'))\n",
    "\n",
    "ax = world[world.continent == 'Europe'].plot(color='white', edgecolor='black')\n",
    "\n",
    "bounds = gdf.geometry.total_bounds\n",
    "xlim = ([bounds[0],  bounds[2]])\n",
    "ylim = ([bounds[1],  bounds[3]])\n",
    "ax.set_xlim(xlim)\n",
    "ax.set_ylim(ylim)\n",
    "\n",
    "# Note that the colour fields to use here are 'column' and 'cmap' rather than 'c' and 'cmap' as in the scatter plots above!\n",
    "gdf.plot(ax=ax, cmap=plt.get_cmap(\"jet\"), column='temperature')\n",
    "\n",
    "plt.show()"
   ],
   "metadata": {
    "collapsed": false,
    "pycharm": {
     "name": "#%%\n",
     "is_executing": true
    }
   }
  },
  {
   "cell_type": "code",
   "execution_count": null,
   "outputs": [],
   "source": [
    "import rasterio.plot\n",
    "\n",
    "# Note that the geotiff image we're using is in OSGB coords, so we need to use the same coordinate system for the points\n",
    "gdf_osgb = geopandas.GeoDataFrame(osgb, geometry=geopandas.points_from_xy(osgb.osgb_E, osgb.osgb_N))\n",
    "\n",
    "raster_data = rasterio.open('data/GBOverview.tif', masked=True)\n",
    "extent=[raster_data.bounds[0], raster_data.bounds[2], raster_data.bounds[1], raster_data.bounds[3]]\n",
    "\n",
    "f, ax = plt.subplots(figsize=(14, 14))\n",
    "ax.set_title('UK Weather Stations by Minimum Temperature', fontdict={'fontsize': '18', 'fontweight' : '3'})\n",
    "ax.set_axis_off()\n",
    "\n",
    "rasterio.plot.show(raster_data, ax=ax, extent=extent)\n",
    "gdf_osgb.plot(ax=ax, cmap=plt.get_cmap(\"jet\"), column='temperature', alpha=0.6)\n"
   ],
   "metadata": {
    "collapsed": false,
    "pycharm": {
     "name": "#%%\n",
     "is_executing": true
    }
   }
  },
  {
   "cell_type": "markdown",
   "source": [
    "# Folium\n",
    "\n",
    "Another python library that wraps Leaflet.  Unlike ipyleaflet, it works in PyCharm's notebook editor.  However, because the output is a big chunk of interactive JS, you don't see the output on platforms like github - so what you gain in interactivity, you lose in shareability."
   ],
   "metadata": {
    "collapsed": false
   }
  },
  {
   "cell_type": "code",
   "execution_count": null,
   "outputs": [],
   "source": [
    "import folium\n",
    "from branca.element import Figure\n",
    "\n",
    "fig=Figure(width=600,height=800)\n",
    "\n",
    "mid_lat = df['lat'].mean()\n",
    "mid_lon = df['lon'].mean()\n",
    "\n",
    "m = folium.Map(location=[mid_lat, mid_lon], tiles = 'Stamen Terrain', zoom_start=6)\n",
    "\n",
    "df['marker_color'] = pd.cut(df['temperature'], bins=4, labels=['#5599DD', '#55DD55', '#FFAA66', '#DD6666'])\n",
    "\n",
    "for index, row in df.iterrows():\n",
    "    folium.CircleMarker(location=(row['lat'], row['lon']), radius=4, weight=2, color=row['marker_color'], fill_color=row['marker_color'], fill_opacity=0.7).add_to(m)\n",
    "\n",
    "fig.add_child(m)\n",
    "m"
   ],
   "metadata": {
    "collapsed": false,
    "pycharm": {
     "name": "#%%\n",
     "is_executing": true
    }
   }
  },
  {
   "cell_type": "markdown",
   "source": [
    "# A better shape file for the UK...\n",
    "\n",
    "http://www.diva-gis.org/datadown"
   ],
   "metadata": {
    "collapsed": false,
    "pycharm": {
     "name": "#%% md\n"
    }
   }
  },
  {
   "cell_type": "code",
   "execution_count": null,
   "outputs": [],
   "source": [
    "raster_data = rasterio.open('data/GBOverview.tif', masked=True)\n",
    "extent=[raster_data.bounds[0], raster_data.bounds[2], raster_data.bounds[1], raster_data.bounds[3]]\n",
    "\n",
    "f, ax = plt.subplots(figsize=(14, 14))\n",
    "ax.set_title('A better coastline shape file', fontdict={'fontsize': '18', 'fontweight' : '3'})\n",
    "ax.set_axis_off()\n",
    "\n",
    "rasterio.plot.show(raster_data, ax=ax, extent=extent)\n",
    "\n",
    "uk = geopandas.read_file('data/GBR_adm0/GBR_adm0.shp')\n",
    "# Convert the shape data to OSGB coords - could equally do this the other way round and use lat long WGS84 everywhere if preferred/needed.\n",
    "uk = uk.to_crs(epsg=27700)\n",
    "\n",
    "uk.plot(ax=ax, facecolor='none', edgecolor='red', alpha=.6)\n",
    "gdf_osgb.plot(ax=ax, cmap=plt.get_cmap(\"jet\"), column='temperature', alpha=0.6)\n",
    "\n",
    "plt.show()"
   ],
   "metadata": {
    "collapsed": false,
    "pycharm": {
     "name": "#%%\n",
     "is_executing": true
    }
   }
  },
  {
   "cell_type": "markdown",
   "source": [
    "# Filter points using a shapefile\n",
    "\n",
    "This can be done using an inner join. The CRS of each dataset needs to be explicitly set, and obviously needs to match.  The join will link the points to the shape from the shape file which contains them. In our case, weather stations in the channel islands etc will be filtered out, as they are outside the coastline.\n",
    "\n",
    "There might be some interesting use-cases for using a `left` rather than `inner` join and multiple shape files - allowing you to put each weather station into a UK county (for example)."
   ],
   "metadata": {
    "collapsed": false,
    "pycharm": {
     "name": "#%% md\n"
    }
   }
  },
  {
   "cell_type": "code",
   "execution_count": null,
   "outputs": [],
   "source": [
    "from geopandas.tools import sjoin\n",
    "\n",
    "f, ax = plt.subplots(figsize=(14, 14))\n",
    "ax.set_title('Weather stations within the UK coastline', fontdict={'fontsize': '18', 'fontweight' : '3'})\n",
    "ax.set_axis_off()\n",
    "\n",
    "uk = geopandas.read_file('data/GBR_adm0/GBR_adm0.shp')\n",
    "uk = uk.to_crs(epsg=27700)\n",
    "# Need to explicitly set the CRS of the weather station data for the join to work\n",
    "gdf_osgb.crs = \"EPSG:27700\"\n",
    "\n",
    "points_inside_boundary = sjoin(gdf_osgb, uk, how='inner')\n",
    "\n",
    "uk.plot(ax=ax, facecolor='white', edgecolor='black', alpha=.6)\n",
    "points_inside_boundary.plot(ax=ax, cmap=plt.get_cmap(\"jet\"), column='temperature', alpha=0.6)\n",
    "\n",
    "plt.show()\n",
    "points_inside_boundary.head()"
   ],
   "metadata": {
    "collapsed": false,
    "pycharm": {
     "name": "#%%\n",
     "is_executing": true
    }
   }
  },
  {
   "cell_type": "markdown",
   "source": [
    "# A Voronoi Diagram\n",
    "https://wellsr.com/python/python-voronoi-diagram-with-geopandas-and-geoplot/"
   ],
   "metadata": {
    "collapsed": false,
    "pycharm": {
     "name": "#%% md\n"
    }
   }
  },
  {
   "cell_type": "code",
   "execution_count": null,
   "outputs": [],
   "source": [
    "import geoplot\n",
    "from shapely.geometry import box, Polygon\n",
    "\n",
    "f, ax = plt.subplots(figsize=(14, 14))\n",
    "ax.set_title('Temperature Voronoi Diagram', fontdict={'fontsize': '18', 'fontweight' : '3'})\n",
    "ax.set_axis_off()\n",
    "\n",
    "uk = geopandas.read_file('data/GBR_adm0/GBR_adm0.shp')\n",
    "islands_of_uk = uk.explode(index_parts=True).to_crs(epsg=3857)\n",
    "gdf.crs = \"EPSG:3857\"\n",
    "islands_and_weather_stations = sjoin(islands_of_uk, gdf, how='inner')[[\"site_name\", \"geometry\"]]\n",
    "mainland = islands_and_weather_stations.where(islands_and_weather_stations['site_name'] == 'EXETER AIRPORT')\n",
    "\n",
    "points = points_inside_boundary[['geometry', 'site_name', 'temperature']].dropna()\n",
    "\n",
    "#proj = geoplot.crs.WebMercator()\n",
    "#ax = geoplot.voronoi(points, hue='temperature', projection=proj, clip=mainland, cmap=plt.get_cmap(\"jet\"), legend=True, edgecolor='white', linewidth=0.01)\n",
    "\n",
    "# Voronoi Magic!\n",
    "#ax = geoplot.voronoi(points_inside_boundary, hue='temperature', clip=uk, cmap=plt.get_cmap(\"jet\"), legend=True, edgecolor='white', linewidth=0.01)\n",
    "#islands_and_weather_stations.plot(ax=ax, facecolor='white', edgecolor='black', alpha=.6)\n",
    "\n",
    "#plt.show()"
   ],
   "metadata": {
    "collapsed": false,
    "pycharm": {
     "name": "#%%\n",
     "is_executing": true
    }
   }
  },
  {
   "cell_type": "code",
   "execution_count": null,
   "outputs": [],
   "source": [],
   "metadata": {
    "collapsed": false,
    "pycharm": {
     "name": "#%%\n",
     "is_executing": true
    }
   }
  }
 ],
 "metadata": {
  "kernelspec": {
   "display_name": "Python 3 (ipykernel)",
   "language": "python",
   "name": "python3"
  },
  "language_info": {
   "codemirror_mode": {
    "name": "ipython",
    "version": 3
   },
   "file_extension": ".py",
   "mimetype": "text/x-python",
   "name": "python",
   "nbconvert_exporter": "python",
   "pygments_lexer": "ipython3",
   "version": "3.8.2"
  }
 },
 "nbformat": 4,
 "nbformat_minor": 1
}