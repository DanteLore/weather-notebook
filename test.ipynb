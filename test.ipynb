{
 "cells": [
  {
   "cell_type": "code",
   "execution_count": 1,
   "metadata": {
    "collapsed": true
   },
   "outputs": [
    {
     "name": "stdout",
     "output_type": "stream",
     "text": [
      "Executing: select * from weather limit 1000\n",
      "Wait count 0/30\n",
      "Wait count 1/30\n",
      "Query succeeded\n"
     ]
    },
    {
     "data": {
      "text/plain": "              observation_ts  site_id         site_name site_country  \\\n0    2021-12-14 23:00:00.000     3002        BALTASOUND     SCOTLAND   \n1    2021-12-15 00:00:00.000     3002        BALTASOUND     SCOTLAND   \n2    2021-12-15 01:00:00.000     3002        BALTASOUND     SCOTLAND   \n3    2021-12-15 02:00:00.000     3002        BALTASOUND     SCOTLAND   \n4    2021-12-15 03:00:00.000     3002        BALTASOUND     SCOTLAND   \n..                       ...      ...               ...          ...   \n995  2021-12-15 22:00:00.000     3226            WARCOP      ENGLAND   \n996  2021-12-15 23:00:00.000     3226            WARCOP      ENGLAND   \n997  2021-12-15 17:00:00.000     3227  GREAT DUN FELL 2      ENGLAND   \n998  2021-12-15 18:00:00.000     3227  GREAT DUN FELL 2      ENGLAND   \n999  2021-12-15 19:00:00.000     3227  GREAT DUN FELL 2      ENGLAND   \n\n    site_continent  site_elevation     lat    lon wind_direction  \\\n0           EUROPE            15.0  60.749 -0.854            WSW   \n1           EUROPE            15.0  60.749 -0.854            WSW   \n2           EUROPE            15.0  60.749 -0.854            WSW   \n3           EUROPE            15.0  60.749 -0.854            WSW   \n4           EUROPE            15.0  60.749 -0.854            WSW   \n..             ...             ...     ...    ...            ...   \n995         EUROPE           227.0  54.572 -2.413            SSW   \n996         EUROPE           227.0  54.572 -2.413              S   \n997         EUROPE           847.0  54.684 -2.450             SW   \n998         EUROPE           847.0  54.684 -2.450             SW   \n999         EUROPE           847.0  54.684 -2.450             SW   \n\n     screen_relative_humidity  pressure  wind_speed  temperature  visibility  \\\n0                        90.9    1004.0        17.0          8.7     17000.0   \n1                        90.3    1004.0        18.0          9.1     13000.0   \n2                        89.1    1005.0        22.0          9.1     10000.0   \n3                        88.5    1005.0        18.0          8.6      8000.0   \n4                        86.6    1006.0        18.0          8.6      8000.0   \n..                        ...       ...         ...          ...         ...   \n995                      97.9    1030.0         6.0          8.6     25000.0   \n996                      95.2    1031.0         6.0          8.8     40000.0   \n997                     100.0       NaN        19.0          5.1         NaN   \n998                     100.0       NaN        18.0          5.0         NaN   \n999                     100.0       NaN        18.0          5.0         NaN   \n\n     weather_type pressure_tendency  dew_point  year  month  day  \n0             7.0                 R        7.3  2021     12   15  \n1             7.0                 R        7.6  2021     12   15  \n2             8.0                 R        7.4  2021     12   15  \n3             0.0                 R        6.8  2021     12   15  \n4             2.0                 R        6.5  2021     12   15  \n..            ...               ...        ...   ...    ...  ...  \n995           8.0                 R        8.3  2021     12   15  \n996           8.0                 R        8.1  2021     12   15  \n997           NaN               NaN        5.1  2021     12   15  \n998           NaN               NaN        5.0  2021     12   15  \n999           NaN               NaN        5.0  2021     12   15  \n\n[1000 rows x 20 columns]",
      "text/html": "<div>\n<style scoped>\n    .dataframe tbody tr th:only-of-type {\n        vertical-align: middle;\n    }\n\n    .dataframe tbody tr th {\n        vertical-align: top;\n    }\n\n    .dataframe thead th {\n        text-align: right;\n    }\n</style>\n<table border=\"1\" class=\"dataframe\">\n  <thead>\n    <tr style=\"text-align: right;\">\n      <th></th>\n      <th>observation_ts</th>\n      <th>site_id</th>\n      <th>site_name</th>\n      <th>site_country</th>\n      <th>site_continent</th>\n      <th>site_elevation</th>\n      <th>lat</th>\n      <th>lon</th>\n      <th>wind_direction</th>\n      <th>screen_relative_humidity</th>\n      <th>pressure</th>\n      <th>wind_speed</th>\n      <th>temperature</th>\n      <th>visibility</th>\n      <th>weather_type</th>\n      <th>pressure_tendency</th>\n      <th>dew_point</th>\n      <th>year</th>\n      <th>month</th>\n      <th>day</th>\n    </tr>\n  </thead>\n  <tbody>\n    <tr>\n      <th>0</th>\n      <td>2021-12-14 23:00:00.000</td>\n      <td>3002</td>\n      <td>BALTASOUND</td>\n      <td>SCOTLAND</td>\n      <td>EUROPE</td>\n      <td>15.0</td>\n      <td>60.749</td>\n      <td>-0.854</td>\n      <td>WSW</td>\n      <td>90.9</td>\n      <td>1004.0</td>\n      <td>17.0</td>\n      <td>8.7</td>\n      <td>17000.0</td>\n      <td>7.0</td>\n      <td>R</td>\n      <td>7.3</td>\n      <td>2021</td>\n      <td>12</td>\n      <td>15</td>\n    </tr>\n    <tr>\n      <th>1</th>\n      <td>2021-12-15 00:00:00.000</td>\n      <td>3002</td>\n      <td>BALTASOUND</td>\n      <td>SCOTLAND</td>\n      <td>EUROPE</td>\n      <td>15.0</td>\n      <td>60.749</td>\n      <td>-0.854</td>\n      <td>WSW</td>\n      <td>90.3</td>\n      <td>1004.0</td>\n      <td>18.0</td>\n      <td>9.1</td>\n      <td>13000.0</td>\n      <td>7.0</td>\n      <td>R</td>\n      <td>7.6</td>\n      <td>2021</td>\n      <td>12</td>\n      <td>15</td>\n    </tr>\n    <tr>\n      <th>2</th>\n      <td>2021-12-15 01:00:00.000</td>\n      <td>3002</td>\n      <td>BALTASOUND</td>\n      <td>SCOTLAND</td>\n      <td>EUROPE</td>\n      <td>15.0</td>\n      <td>60.749</td>\n      <td>-0.854</td>\n      <td>WSW</td>\n      <td>89.1</td>\n      <td>1005.0</td>\n      <td>22.0</td>\n      <td>9.1</td>\n      <td>10000.0</td>\n      <td>8.0</td>\n      <td>R</td>\n      <td>7.4</td>\n      <td>2021</td>\n      <td>12</td>\n      <td>15</td>\n    </tr>\n    <tr>\n      <th>3</th>\n      <td>2021-12-15 02:00:00.000</td>\n      <td>3002</td>\n      <td>BALTASOUND</td>\n      <td>SCOTLAND</td>\n      <td>EUROPE</td>\n      <td>15.0</td>\n      <td>60.749</td>\n      <td>-0.854</td>\n      <td>WSW</td>\n      <td>88.5</td>\n      <td>1005.0</td>\n      <td>18.0</td>\n      <td>8.6</td>\n      <td>8000.0</td>\n      <td>0.0</td>\n      <td>R</td>\n      <td>6.8</td>\n      <td>2021</td>\n      <td>12</td>\n      <td>15</td>\n    </tr>\n    <tr>\n      <th>4</th>\n      <td>2021-12-15 03:00:00.000</td>\n      <td>3002</td>\n      <td>BALTASOUND</td>\n      <td>SCOTLAND</td>\n      <td>EUROPE</td>\n      <td>15.0</td>\n      <td>60.749</td>\n      <td>-0.854</td>\n      <td>WSW</td>\n      <td>86.6</td>\n      <td>1006.0</td>\n      <td>18.0</td>\n      <td>8.6</td>\n      <td>8000.0</td>\n      <td>2.0</td>\n      <td>R</td>\n      <td>6.5</td>\n      <td>2021</td>\n      <td>12</td>\n      <td>15</td>\n    </tr>\n    <tr>\n      <th>...</th>\n      <td>...</td>\n      <td>...</td>\n      <td>...</td>\n      <td>...</td>\n      <td>...</td>\n      <td>...</td>\n      <td>...</td>\n      <td>...</td>\n      <td>...</td>\n      <td>...</td>\n      <td>...</td>\n      <td>...</td>\n      <td>...</td>\n      <td>...</td>\n      <td>...</td>\n      <td>...</td>\n      <td>...</td>\n      <td>...</td>\n      <td>...</td>\n      <td>...</td>\n    </tr>\n    <tr>\n      <th>995</th>\n      <td>2021-12-15 22:00:00.000</td>\n      <td>3226</td>\n      <td>WARCOP</td>\n      <td>ENGLAND</td>\n      <td>EUROPE</td>\n      <td>227.0</td>\n      <td>54.572</td>\n      <td>-2.413</td>\n      <td>SSW</td>\n      <td>97.9</td>\n      <td>1030.0</td>\n      <td>6.0</td>\n      <td>8.6</td>\n      <td>25000.0</td>\n      <td>8.0</td>\n      <td>R</td>\n      <td>8.3</td>\n      <td>2021</td>\n      <td>12</td>\n      <td>15</td>\n    </tr>\n    <tr>\n      <th>996</th>\n      <td>2021-12-15 23:00:00.000</td>\n      <td>3226</td>\n      <td>WARCOP</td>\n      <td>ENGLAND</td>\n      <td>EUROPE</td>\n      <td>227.0</td>\n      <td>54.572</td>\n      <td>-2.413</td>\n      <td>S</td>\n      <td>95.2</td>\n      <td>1031.0</td>\n      <td>6.0</td>\n      <td>8.8</td>\n      <td>40000.0</td>\n      <td>8.0</td>\n      <td>R</td>\n      <td>8.1</td>\n      <td>2021</td>\n      <td>12</td>\n      <td>15</td>\n    </tr>\n    <tr>\n      <th>997</th>\n      <td>2021-12-15 17:00:00.000</td>\n      <td>3227</td>\n      <td>GREAT DUN FELL 2</td>\n      <td>ENGLAND</td>\n      <td>EUROPE</td>\n      <td>847.0</td>\n      <td>54.684</td>\n      <td>-2.450</td>\n      <td>SW</td>\n      <td>100.0</td>\n      <td>NaN</td>\n      <td>19.0</td>\n      <td>5.1</td>\n      <td>NaN</td>\n      <td>NaN</td>\n      <td>NaN</td>\n      <td>5.1</td>\n      <td>2021</td>\n      <td>12</td>\n      <td>15</td>\n    </tr>\n    <tr>\n      <th>998</th>\n      <td>2021-12-15 18:00:00.000</td>\n      <td>3227</td>\n      <td>GREAT DUN FELL 2</td>\n      <td>ENGLAND</td>\n      <td>EUROPE</td>\n      <td>847.0</td>\n      <td>54.684</td>\n      <td>-2.450</td>\n      <td>SW</td>\n      <td>100.0</td>\n      <td>NaN</td>\n      <td>18.0</td>\n      <td>5.0</td>\n      <td>NaN</td>\n      <td>NaN</td>\n      <td>NaN</td>\n      <td>5.0</td>\n      <td>2021</td>\n      <td>12</td>\n      <td>15</td>\n    </tr>\n    <tr>\n      <th>999</th>\n      <td>2021-12-15 19:00:00.000</td>\n      <td>3227</td>\n      <td>GREAT DUN FELL 2</td>\n      <td>ENGLAND</td>\n      <td>EUROPE</td>\n      <td>847.0</td>\n      <td>54.684</td>\n      <td>-2.450</td>\n      <td>SW</td>\n      <td>100.0</td>\n      <td>NaN</td>\n      <td>18.0</td>\n      <td>5.0</td>\n      <td>NaN</td>\n      <td>NaN</td>\n      <td>NaN</td>\n      <td>5.0</td>\n      <td>2021</td>\n      <td>12</td>\n      <td>15</td>\n    </tr>\n  </tbody>\n</table>\n<p>1000 rows × 20 columns</p>\n</div>"
     },
     "execution_count": 1,
     "metadata": {},
     "output_type": "execute_result"
    }
   ],
   "source": [
    "import pandas as pd\n",
    "import s3fs\n",
    "from aws_helpers import execute_athena_query\n",
    "\n",
    "results_url = execute_athena_query(\"select * from weather limit 1000\")\n",
    "df = pd.read_csv(results_url)\n",
    "\n",
    "df"
   ]
  },
  {
   "cell_type": "code",
   "execution_count": 1,
   "outputs": [],
   "source": [],
   "metadata": {
    "collapsed": false,
    "pycharm": {
     "name": "#%%\n"
    }
   }
  },
  {
   "cell_type": "code",
   "execution_count": 1,
   "outputs": [],
   "source": [],
   "metadata": {
    "collapsed": false,
    "pycharm": {
     "name": "#%%\n"
    }
   }
  }
 ],
 "metadata": {
  "kernelspec": {
   "display_name": "Python 3",
   "language": "python",
   "name": "python3"
  },
  "language_info": {
   "codemirror_mode": {
    "name": "ipython",
    "version": 2
   },
   "file_extension": ".py",
   "mimetype": "text/x-python",
   "name": "python",
   "nbconvert_exporter": "python",
   "pygments_lexer": "ipython2",
   "version": "2.7.6"
  }
 },
 "nbformat": 4,
 "nbformat_minor": 0
}