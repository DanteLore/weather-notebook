{
 "cells": [
  {
   "cell_type": "code",
   "execution_count": 2,
   "metadata": {
    "collapsed": true
   },
   "outputs": [
    {
     "name": "stdout",
     "output_type": "stream",
     "text": [
      "Executing: select * from weather limit 10\n",
      "Wait count 0/10\n",
      "Wait count 1/10\n",
      "Query succeeded\n"
     ]
    },
    {
     "data": {
      "text/plain": "{'UpdateCount': 0,\n 'ResultSet': {'Rows': [{'Data': [{'VarCharValue': 'observation_ts'},\n     {'VarCharValue': 'site_id'},\n     {'VarCharValue': 'site_name'},\n     {'VarCharValue': 'site_country'},\n     {'VarCharValue': 'site_continent'},\n     {'VarCharValue': 'site_elevation'},\n     {'VarCharValue': 'lat'},\n     {'VarCharValue': 'lon'},\n     {'VarCharValue': 'wind_direction'},\n     {'VarCharValue': 'screen_relative_humidity'},\n     {'VarCharValue': 'pressure'},\n     {'VarCharValue': 'wind_speed'},\n     {'VarCharValue': 'temperature'},\n     {'VarCharValue': 'visibility'},\n     {'VarCharValue': 'weather_type'},\n     {'VarCharValue': 'pressure_tendency'},\n     {'VarCharValue': 'dew_point'},\n     {'VarCharValue': 'year'},\n     {'VarCharValue': 'month'},\n     {'VarCharValue': 'day'}]},\n   {'Data': [{'VarCharValue': '2021-12-12 21:00:00.000'},\n     {'VarCharValue': '3002'},\n     {'VarCharValue': 'BALTASOUND'},\n     {'VarCharValue': 'SCOTLAND'},\n     {'VarCharValue': 'EUROPE'},\n     {'VarCharValue': '15.0'},\n     {'VarCharValue': '60.749'},\n     {'VarCharValue': '-0.854'},\n     {'VarCharValue': 'SSE'},\n     {'VarCharValue': '82.9'},\n     {'VarCharValue': '1007.0'},\n     {'VarCharValue': '15.0'},\n     {'VarCharValue': '7.8'},\n     {'VarCharValue': '13000'},\n     {'VarCharValue': '8'},\n     {'VarCharValue': 'F'},\n     {'VarCharValue': '5.1'},\n     {'VarCharValue': '2021'},\n     {'VarCharValue': '12'},\n     {'VarCharValue': '13'}]},\n   {'Data': [{'VarCharValue': '2021-12-12 22:00:00.000'},\n     {'VarCharValue': '3002'},\n     {'VarCharValue': 'BALTASOUND'},\n     {'VarCharValue': 'SCOTLAND'},\n     {'VarCharValue': 'EUROPE'},\n     {'VarCharValue': '15.0'},\n     {'VarCharValue': '60.749'},\n     {'VarCharValue': '-0.854'},\n     {'VarCharValue': 'SSE'},\n     {'VarCharValue': '88.3'},\n     {'VarCharValue': '1005.0'},\n     {'VarCharValue': '17.0'},\n     {'VarCharValue': '7.8'},\n     {'VarCharValue': '9000'},\n     {'VarCharValue': '7'},\n     {'VarCharValue': 'F'},\n     {'VarCharValue': '6.0'},\n     {'VarCharValue': '2021'},\n     {'VarCharValue': '12'},\n     {'VarCharValue': '13'}]},\n   {'Data': [{'VarCharValue': '2021-12-12 23:00:00.000'},\n     {'VarCharValue': '3002'},\n     {'VarCharValue': 'BALTASOUND'},\n     {'VarCharValue': 'SCOTLAND'},\n     {'VarCharValue': 'EUROPE'},\n     {'VarCharValue': '15.0'},\n     {'VarCharValue': '60.749'},\n     {'VarCharValue': '-0.854'},\n     {'VarCharValue': 'SE'},\n     {'VarCharValue': '84.8'},\n     {'VarCharValue': '1004.0'},\n     {'VarCharValue': '23.0'},\n     {'VarCharValue': '8.1'},\n     {'VarCharValue': '10000'},\n     {'VarCharValue': '8'},\n     {'VarCharValue': 'F'},\n     {'VarCharValue': '5.7'},\n     {'VarCharValue': '2021'},\n     {'VarCharValue': '12'},\n     {'VarCharValue': '13'}]},\n   {'Data': [{'VarCharValue': '2021-12-13 00:00:00.000'},\n     {'VarCharValue': '3002'},\n     {'VarCharValue': 'BALTASOUND'},\n     {'VarCharValue': 'SCOTLAND'},\n     {'VarCharValue': 'EUROPE'},\n     {'VarCharValue': '15.0'},\n     {'VarCharValue': '60.749'},\n     {'VarCharValue': '-0.854'},\n     {'VarCharValue': 'SE'},\n     {'VarCharValue': '83.6'},\n     {'VarCharValue': '1002.0'},\n     {'VarCharValue': '25.0'},\n     {'VarCharValue': '8.4'},\n     {'VarCharValue': '10000'},\n     {'VarCharValue': '8'},\n     {'VarCharValue': 'F'},\n     {'VarCharValue': '5.8'},\n     {'VarCharValue': '2021'},\n     {'VarCharValue': '12'},\n     {'VarCharValue': '13'}]},\n   {'Data': [{'VarCharValue': '2021-12-13 01:00:00.000'},\n     {'VarCharValue': '3002'},\n     {'VarCharValue': 'BALTASOUND'},\n     {'VarCharValue': 'SCOTLAND'},\n     {'VarCharValue': 'EUROPE'},\n     {'VarCharValue': '15.0'},\n     {'VarCharValue': '60.749'},\n     {'VarCharValue': '-0.854'},\n     {'VarCharValue': 'SSE'},\n     {'VarCharValue': '90.3'},\n     {'VarCharValue': '1000.0'},\n     {'VarCharValue': '30.0'},\n     {'VarCharValue': '8.6'},\n     {'VarCharValue': '5000'},\n     {'VarCharValue': '8'},\n     {'VarCharValue': 'F'},\n     {'VarCharValue': '7.1'},\n     {'VarCharValue': '2021'},\n     {'VarCharValue': '12'},\n     {'VarCharValue': '13'}]},\n   {'Data': [{'VarCharValue': '2021-12-13 02:00:00.000'},\n     {'VarCharValue': '3002'},\n     {'VarCharValue': 'BALTASOUND'},\n     {'VarCharValue': 'SCOTLAND'},\n     {'VarCharValue': 'EUROPE'},\n     {'VarCharValue': '15.0'},\n     {'VarCharValue': '60.749'},\n     {'VarCharValue': '-0.854'},\n     {'VarCharValue': 'SSE'},\n     {'VarCharValue': '95.4'},\n     {'VarCharValue': '998.0'},\n     {'VarCharValue': '30.0'},\n     {'VarCharValue': '9.0'},\n     {'VarCharValue': '2500'},\n     {'VarCharValue': '15'},\n     {'VarCharValue': 'F'},\n     {'VarCharValue': '8.3'},\n     {'VarCharValue': '2021'},\n     {'VarCharValue': '12'},\n     {'VarCharValue': '13'}]},\n   {'Data': [{'VarCharValue': '2021-12-13 03:00:00.000'},\n     {'VarCharValue': '3002'},\n     {'VarCharValue': 'BALTASOUND'},\n     {'VarCharValue': 'SCOTLAND'},\n     {'VarCharValue': 'EUROPE'},\n     {'VarCharValue': '15.0'},\n     {'VarCharValue': '60.749'},\n     {'VarCharValue': '-0.854'},\n     {'VarCharValue': 'SSE'},\n     {'VarCharValue': '91.5'},\n     {'VarCharValue': '996.0'},\n     {'VarCharValue': '30.0'},\n     {'VarCharValue': '9.7'},\n     {'VarCharValue': '7000'},\n     {'VarCharValue': '8'},\n     {'VarCharValue': 'F'},\n     {'VarCharValue': '8.4'},\n     {'VarCharValue': '2021'},\n     {'VarCharValue': '12'},\n     {'VarCharValue': '13'}]},\n   {'Data': [{'VarCharValue': '2021-12-13 04:00:00.000'},\n     {'VarCharValue': '3002'},\n     {'VarCharValue': 'BALTASOUND'},\n     {'VarCharValue': 'SCOTLAND'},\n     {'VarCharValue': 'EUROPE'},\n     {'VarCharValue': '15.0'},\n     {'VarCharValue': '60.749'},\n     {'VarCharValue': '-0.854'},\n     {'VarCharValue': 'S'},\n     {'VarCharValue': '86.3'},\n     {'VarCharValue': '994.0'},\n     {'VarCharValue': '38.0'},\n     {'VarCharValue': '10.3'},\n     {'VarCharValue': '7000'},\n     {'VarCharValue': '8'},\n     {'VarCharValue': 'F'},\n     {'VarCharValue': '8.1'},\n     {'VarCharValue': '2021'},\n     {'VarCharValue': '12'},\n     {'VarCharValue': '13'}]},\n   {'Data': [{'VarCharValue': '2021-12-13 05:00:00.000'},\n     {'VarCharValue': '3002'},\n     {'VarCharValue': 'BALTASOUND'},\n     {'VarCharValue': 'SCOTLAND'},\n     {'VarCharValue': 'EUROPE'},\n     {'VarCharValue': '15.0'},\n     {'VarCharValue': '60.749'},\n     {'VarCharValue': '-0.854'},\n     {'VarCharValue': 'SSW'},\n     {'VarCharValue': '76.9'},\n     {'VarCharValue': '994.0'},\n     {'VarCharValue': '41.0'},\n     {'VarCharValue': '7.6'},\n     {'VarCharValue': '8000'},\n     {'VarCharValue': '8'},\n     {'VarCharValue': 'F'},\n     {'VarCharValue': '3.8'},\n     {'VarCharValue': '2021'},\n     {'VarCharValue': '12'},\n     {'VarCharValue': '13'}]},\n   {'Data': [{'VarCharValue': '2021-12-13 06:00:00.000'},\n     {'VarCharValue': '3002'},\n     {'VarCharValue': 'BALTASOUND'},\n     {'VarCharValue': 'SCOTLAND'},\n     {'VarCharValue': 'EUROPE'},\n     {'VarCharValue': '15.0'},\n     {'VarCharValue': '60.749'},\n     {'VarCharValue': '-0.854'},\n     {'VarCharValue': 'SSW'},\n     {'VarCharValue': '77.4'},\n     {'VarCharValue': '995.0'},\n     {'VarCharValue': '38.0'},\n     {'VarCharValue': '7.4'},\n     {'VarCharValue': '7000'},\n     {'VarCharValue': '8'},\n     {'VarCharValue': 'F'},\n     {'VarCharValue': '3.7'},\n     {'VarCharValue': '2021'},\n     {'VarCharValue': '12'},\n     {'VarCharValue': '13'}]}],\n  'ResultSetMetadata': {'ColumnInfo': [{'CatalogName': 'hive',\n     'SchemaName': '',\n     'TableName': '',\n     'Name': 'observation_ts',\n     'Label': 'observation_ts',\n     'Type': 'timestamp',\n     'Precision': 3,\n     'Scale': 0,\n     'Nullable': 'UNKNOWN',\n     'CaseSensitive': False},\n    {'CatalogName': 'hive',\n     'SchemaName': '',\n     'TableName': '',\n     'Name': 'site_id',\n     'Label': 'site_id',\n     'Type': 'varchar',\n     'Precision': 2147483647,\n     'Scale': 0,\n     'Nullable': 'UNKNOWN',\n     'CaseSensitive': True},\n    {'CatalogName': 'hive',\n     'SchemaName': '',\n     'TableName': '',\n     'Name': 'site_name',\n     'Label': 'site_name',\n     'Type': 'varchar',\n     'Precision': 2147483647,\n     'Scale': 0,\n     'Nullable': 'UNKNOWN',\n     'CaseSensitive': True},\n    {'CatalogName': 'hive',\n     'SchemaName': '',\n     'TableName': '',\n     'Name': 'site_country',\n     'Label': 'site_country',\n     'Type': 'varchar',\n     'Precision': 2147483647,\n     'Scale': 0,\n     'Nullable': 'UNKNOWN',\n     'CaseSensitive': True},\n    {'CatalogName': 'hive',\n     'SchemaName': '',\n     'TableName': '',\n     'Name': 'site_continent',\n     'Label': 'site_continent',\n     'Type': 'varchar',\n     'Precision': 2147483647,\n     'Scale': 0,\n     'Nullable': 'UNKNOWN',\n     'CaseSensitive': True},\n    {'CatalogName': 'hive',\n     'SchemaName': '',\n     'TableName': '',\n     'Name': 'site_elevation',\n     'Label': 'site_elevation',\n     'Type': 'double',\n     'Precision': 17,\n     'Scale': 0,\n     'Nullable': 'UNKNOWN',\n     'CaseSensitive': False},\n    {'CatalogName': 'hive',\n     'SchemaName': '',\n     'TableName': '',\n     'Name': 'lat',\n     'Label': 'lat',\n     'Type': 'double',\n     'Precision': 17,\n     'Scale': 0,\n     'Nullable': 'UNKNOWN',\n     'CaseSensitive': False},\n    {'CatalogName': 'hive',\n     'SchemaName': '',\n     'TableName': '',\n     'Name': 'lon',\n     'Label': 'lon',\n     'Type': 'double',\n     'Precision': 17,\n     'Scale': 0,\n     'Nullable': 'UNKNOWN',\n     'CaseSensitive': False},\n    {'CatalogName': 'hive',\n     'SchemaName': '',\n     'TableName': '',\n     'Name': 'wind_direction',\n     'Label': 'wind_direction',\n     'Type': 'varchar',\n     'Precision': 2147483647,\n     'Scale': 0,\n     'Nullable': 'UNKNOWN',\n     'CaseSensitive': True},\n    {'CatalogName': 'hive',\n     'SchemaName': '',\n     'TableName': '',\n     'Name': 'screen_relative_humidity',\n     'Label': 'screen_relative_humidity',\n     'Type': 'double',\n     'Precision': 17,\n     'Scale': 0,\n     'Nullable': 'UNKNOWN',\n     'CaseSensitive': False},\n    {'CatalogName': 'hive',\n     'SchemaName': '',\n     'TableName': '',\n     'Name': 'pressure',\n     'Label': 'pressure',\n     'Type': 'double',\n     'Precision': 17,\n     'Scale': 0,\n     'Nullable': 'UNKNOWN',\n     'CaseSensitive': False},\n    {'CatalogName': 'hive',\n     'SchemaName': '',\n     'TableName': '',\n     'Name': 'wind_speed',\n     'Label': 'wind_speed',\n     'Type': 'double',\n     'Precision': 17,\n     'Scale': 0,\n     'Nullable': 'UNKNOWN',\n     'CaseSensitive': False},\n    {'CatalogName': 'hive',\n     'SchemaName': '',\n     'TableName': '',\n     'Name': 'temperature',\n     'Label': 'temperature',\n     'Type': 'double',\n     'Precision': 17,\n     'Scale': 0,\n     'Nullable': 'UNKNOWN',\n     'CaseSensitive': False},\n    {'CatalogName': 'hive',\n     'SchemaName': '',\n     'TableName': '',\n     'Name': 'visibility',\n     'Label': 'visibility',\n     'Type': 'integer',\n     'Precision': 10,\n     'Scale': 0,\n     'Nullable': 'UNKNOWN',\n     'CaseSensitive': False},\n    {'CatalogName': 'hive',\n     'SchemaName': '',\n     'TableName': '',\n     'Name': 'weather_type',\n     'Label': 'weather_type',\n     'Type': 'integer',\n     'Precision': 10,\n     'Scale': 0,\n     'Nullable': 'UNKNOWN',\n     'CaseSensitive': False},\n    {'CatalogName': 'hive',\n     'SchemaName': '',\n     'TableName': '',\n     'Name': 'pressure_tendency',\n     'Label': 'pressure_tendency',\n     'Type': 'varchar',\n     'Precision': 2147483647,\n     'Scale': 0,\n     'Nullable': 'UNKNOWN',\n     'CaseSensitive': True},\n    {'CatalogName': 'hive',\n     'SchemaName': '',\n     'TableName': '',\n     'Name': 'dew_point',\n     'Label': 'dew_point',\n     'Type': 'double',\n     'Precision': 17,\n     'Scale': 0,\n     'Nullable': 'UNKNOWN',\n     'CaseSensitive': False},\n    {'CatalogName': 'hive',\n     'SchemaName': '',\n     'TableName': '',\n     'Name': 'year',\n     'Label': 'year',\n     'Type': 'varchar',\n     'Precision': 2147483647,\n     'Scale': 0,\n     'Nullable': 'UNKNOWN',\n     'CaseSensitive': True},\n    {'CatalogName': 'hive',\n     'SchemaName': '',\n     'TableName': '',\n     'Name': 'month',\n     'Label': 'month',\n     'Type': 'varchar',\n     'Precision': 2147483647,\n     'Scale': 0,\n     'Nullable': 'UNKNOWN',\n     'CaseSensitive': True},\n    {'CatalogName': 'hive',\n     'SchemaName': '',\n     'TableName': '',\n     'Name': 'day',\n     'Label': 'day',\n     'Type': 'varchar',\n     'Precision': 2147483647,\n     'Scale': 0,\n     'Nullable': 'UNKNOWN',\n     'CaseSensitive': True}]}},\n 'ResponseMetadata': {'RequestId': '3e40bb34-a969-4fb8-b638-d252a419263b',\n  'HTTPStatusCode': 200,\n  'HTTPHeaders': {'content-type': 'application/x-amz-json-1.1',\n   'date': 'Mon, 20 Dec 2021 13:51:19 GMT',\n   'x-amzn-requestid': '3e40bb34-a969-4fb8-b638-d252a419263b',\n   'content-length': '9532',\n   'connection': 'keep-alive'},\n  'RetryAttempts': 0}}"
     },
     "execution_count": 2,
     "metadata": {},
     "output_type": "execute_result"
    }
   ],
   "source": [
    "from aws_helpers import execute_athena_command\n",
    "\n",
    "execute_athena_command(\"select * from weather limit 10\")"
   ]
  },
  {
   "cell_type": "code",
   "execution_count": 2,
   "outputs": [],
   "source": [],
   "metadata": {
    "collapsed": false,
    "pycharm": {
     "name": "#%%\n"
    }
   }
  },
  {
   "cell_type": "code",
   "execution_count": 2,
   "outputs": [],
   "source": [],
   "metadata": {
    "collapsed": false,
    "pycharm": {
     "name": "#%%\n"
    }
   }
  }
 ],
 "metadata": {
  "kernelspec": {
   "display_name": "Python 3",
   "language": "python",
   "name": "python3"
  },
  "language_info": {
   "codemirror_mode": {
    "name": "ipython",
    "version": 2
   },
   "file_extension": ".py",
   "mimetype": "text/x-python",
   "name": "python",
   "nbconvert_exporter": "python",
   "pygments_lexer": "ipython2",
   "version": "2.7.6"
  }
 },
 "nbformat": 4,
 "nbformat_minor": 0
}