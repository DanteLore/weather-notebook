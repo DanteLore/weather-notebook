{
 "cells": [
  {
   "cell_type": "code",
   "execution_count": null,
   "outputs": [
    {
     "name": "stdout",
     "output_type": "stream",
     "text": [
      "Executing: \n",
      "select * from weather\n",
      "where observation_ts >= date('2021-12-05')\n",
      " and observation_ts < date('2022-01-04')\n",
      "\n",
      "Wait count 0/30\n",
      "Wait count 1/30\n",
      "Query succeeded\n"
     ]
    }
   ],
   "source": [
    "import pandas as pd\n",
    "from aws_helpers import execute_athena_query\n",
    "from datetime import datetime, timedelta\n",
    "import matplotlib.pyplot as plt\n",
    "import seaborn; seaborn.set()\n",
    "import matplotlib.dates as mdates\n",
    "%matplotlib inline\n",
    "\n",
    "end = datetime.today()\n",
    "start = end - timedelta(days = 30)\n",
    "\n",
    "sql = f\"\"\"\n",
    "select * from weather\n",
    "where observation_ts >= date('{start.strftime('%Y-%m-%d')}')\n",
    " and observation_ts < date('{end.strftime('%Y-%m-%d')}')\n",
    "\"\"\"\n",
    "\n",
    "results_url = execute_athena_query(sql)\n",
    "df = pd.read_csv(results_url)\n",
    "\n",
    "df['observation_ts'] = pd.to_datetime(df['observation_ts'])\n",
    "\n",
    "df.head()"
   ],
   "metadata": {
    "collapsed": false,
    "pycharm": {
     "name": "#%%\n",
     "is_executing": true
    }
   }
  },
  {
   "cell_type": "code",
   "execution_count": null,
   "outputs": [],
   "source": [
    "f, ax = plt.subplots(figsize=(24, 8))\n",
    "ax.set_title('UK Temperature last 30 days', fontdict={'fontsize': '18', 'fontweight' : '3'})\n",
    "\n",
    "temps = df[['observation_ts', 'temperature']]\n",
    "\n",
    "by_ts = temps.groupby(['observation_ts'])['temperature'].quantile([0.2, 0.5, 0.8]).unstack()\n",
    "\n",
    "ax.plot(by_ts.index, by_ts[0.5], linewidth=4.0, label=\"Average temperature\")\n",
    "ax.fill_between(by_ts.index, by_ts[0.2], by_ts[0.8], alpha=0.5)\n",
    "\n",
    "ax.xaxis.set_major_locator(mdates.DayLocator(interval=1))\n",
    "ax.xaxis.set_major_formatter(mdates.DateFormatter('%d-%m-%Y'))\n",
    "plt.gcf().autofmt_xdate()\n",
    "\n",
    "plt.xlabel('')\n",
    "plt.ylabel('Temperature', fontsize=12)\n",
    "plt.legend(loc='lower right')\n",
    "plt.show()"
   ],
   "metadata": {
    "collapsed": false,
    "pycharm": {
     "name": "#%%\n",
     "is_executing": true
    }
   }
  },
  {
   "cell_type": "code",
   "execution_count": null,
   "outputs": [],
   "source": [],
   "metadata": {
    "collapsed": false,
    "pycharm": {
     "name": "#%%\n",
     "is_executing": true
    }
   }
  }
 ],
 "metadata": {
  "kernelspec": {
   "display_name": "Python 3",
   "language": "python",
   "name": "python3"
  },
  "language_info": {
   "codemirror_mode": {
    "name": "ipython",
    "version": 2
   },
   "file_extension": ".py",
   "mimetype": "text/x-python",
   "name": "python",
   "nbconvert_exporter": "python",
   "pygments_lexer": "ipython2",
   "version": "2.7.6"
  }
 },
 "nbformat": 4,
 "nbformat_minor": 0
}